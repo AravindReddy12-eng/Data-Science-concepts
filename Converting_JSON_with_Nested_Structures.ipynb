{
  "nbformat": 4,
  "nbformat_minor": 0,
  "metadata": {
    "colab": {
      "provenance": []
    },
    "kernelspec": {
      "name": "python3",
      "display_name": "Python 3"
    },
    "language_info": {
      "name": "python"
    }
  },
  "cells": [
    {
      "cell_type": "code",
      "execution_count": 1,
      "metadata": {
        "colab": {
          "base_uri": "https://localhost:8080/"
        },
        "id": "9q6mmES2nnfy",
        "outputId": "e1ed49bb-e1a0-4802-deb7-4816c3447500"
      },
      "outputs": [
        {
          "output_type": "stream",
          "name": "stdout",
          "text": [
            "   name  age department.name department.location\n",
            "0  John   30              HR            New York\n",
            "1  Jane   25         Finance              London\n",
            "2  Mike   35              IT       San Francisco\n"
          ]
        }
      ],
      "source": [
        "import pandas as pd\n",
        "from pandas import json_normalize\n",
        "\n",
        "\n",
        "data = {\n",
        "    \"employees\": [\n",
        "        {\n",
        "            \"name\": \"John\",\n",
        "            \"age\": 30,\n",
        "            \"department\": {\n",
        "                \"name\": \"HR\",\n",
        "                \"location\": \"New York\"\n",
        "            }\n",
        "        },\n",
        "        {\n",
        "            \"name\": \"Jane\",\n",
        "            \"age\": 25,\n",
        "            \"department\": {\n",
        "                \"name\": \"Finance\",\n",
        "                \"location\": \"London\"\n",
        "            }\n",
        "        },\n",
        "        {\n",
        "            \"name\": \"Mike\",\n",
        "            \"age\": 35,\n",
        "            \"department\": {\n",
        "                \"name\": \"IT\",\n",
        "                \"location\": \"San Francisco\"\n",
        "            }\n",
        "        }\n",
        "    ]\n",
        "}\n",
        "\n",
        "\n",
        "df = json_normalize(data, record_path='employees', meta=[])\n",
        "\n",
        "\n",
        "print(df)\n"
      ]
    },
    {
      "cell_type": "code",
      "source": [],
      "metadata": {
        "id": "uH9tPATkoEA7"
      },
      "execution_count": null,
      "outputs": []
    }
  ]
}