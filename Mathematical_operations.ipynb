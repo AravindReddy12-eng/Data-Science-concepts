{
  "nbformat": 4,
  "nbformat_minor": 0,
  "metadata": {
    "colab": {
      "provenance": []
    },
    "kernelspec": {
      "name": "python3",
      "display_name": "Python 3"
    },
    "language_info": {
      "name": "python"
    }
  },
  "cells": [
    {
      "cell_type": "code",
      "execution_count": 1,
      "metadata": {
        "colab": {
          "base_uri": "https://localhost:8080/"
        },
        "id": "eVrY7cndlZEb",
        "outputId": "ce7e2600-46e0-4628-d9e4-e4397bcb1956"
      },
      "outputs": [
        {
          "output_type": "stream",
          "name": "stdout",
          "text": [
            "Solution (x, y): [ 1.33333333 -1.66666667]\n"
          ]
        }
      ],
      "source": [
        "import numpy as np\n",
        "\n",
        "\n",
        "A = np.array([[2, 1], [1, -1]])\n",
        "\n",
        "\n",
        "B = np.array([1, 3])\n",
        "\n",
        "X = np.linalg.solve(A, B)\n",
        "\n",
        "print(\"Solution (x, y):\", X)\n"
      ]
    },
    {
      "cell_type": "code",
      "source": [],
      "metadata": {
        "id": "GkNFoqkPl_rp"
      },
      "execution_count": null,
      "outputs": []
    }
  ]
}