{
  "nbformat": 4,
  "nbformat_minor": 0,
  "metadata": {
    "colab": {
      "provenance": []
    },
    "kernelspec": {
      "name": "python3",
      "display_name": "Python 3"
    },
    "language_info": {
      "name": "python"
    }
  },
  "cells": [
    {
      "cell_type": "code",
      "execution_count": 2,
      "metadata": {
        "colab": {
          "base_uri": "https://localhost:8080/"
        },
        "id": "LpuCTtLEg1kH",
        "outputId": "9a598f24-cf63-4b8f-c4c2-4e7c872bb6de"
      },
      "outputs": [
        {
          "output_type": "stream",
          "name": "stdout",
          "text": [
            "Survived       No  Yes\n",
            "Gender Class          \n",
            "Female Second   1    1\n",
            "       Third    0    1\n",
            "Male   First    1    1\n",
            "       Third    1    0\n"
          ]
        }
      ],
      "source": [
        "import pandas as pd\n",
        "\n",
        "\n",
        "data = {\n",
        "    'Gender': ['Male', 'Female', 'Female', 'Male', 'Female', 'Male'],\n",
        "    'Survived': ['Yes', 'No', 'Yes', 'No', 'Yes', 'No'],\n",
        "    'Class': ['First', 'Second', 'Third', 'First', 'Second', 'Third']\n",
        "}\n",
        "\n",
        "df = pd.DataFrame(data)\n",
        "\n",
        "\n",
        "contingency_table = pd.crosstab([df['Gender'], df['Class']], df['Survived'])\n",
        "\n",
        "print(contingency_table)\n"
      ]
    },
    {
      "cell_type": "code",
      "source": [
        "import pandas as pd\n",
        "\n",
        "\n",
        "data = {\n",
        "    'Department': ['HR', 'Finance', 'IT', 'HR', 'Finance', 'IT', 'HR', 'IT'],\n",
        "    'Gender': ['Female', 'Male', 'Female', 'Male', 'Female', 'Male', 'Female', 'Male'],\n",
        "    'Promotion': ['Yes', 'No', 'Yes', 'Yes', 'No', 'Yes', 'No', 'No']\n",
        "}\n",
        "\n",
        "df = pd.DataFrame(data)\n",
        "\n",
        "\n",
        "contingency_table = pd.crosstab([df['Department'], df['Gender']], df['Promotion'])\n",
        "\n",
        "print(contingency_table)\n"
      ],
      "metadata": {
        "colab": {
          "base_uri": "https://localhost:8080/"
        },
        "id": "ytnJnK32hum0",
        "outputId": "1e0b4df2-3fa9-4f5b-c3a9-f914da0e0dcd"
      },
      "execution_count": 4,
      "outputs": [
        {
          "output_type": "stream",
          "name": "stdout",
          "text": [
            "Promotion          No  Yes\n",
            "Department Gender         \n",
            "Finance    Female   1    0\n",
            "           Male     1    0\n",
            "HR         Female   1    1\n",
            "           Male     0    1\n",
            "IT         Female   0    1\n",
            "           Male     1    1\n"
          ]
        }
      ]
    },
    {
      "cell_type": "code",
      "source": [],
      "metadata": {
        "id": "2q_Nkbd5iKMc"
      },
      "execution_count": null,
      "outputs": []
    }
  ]
}