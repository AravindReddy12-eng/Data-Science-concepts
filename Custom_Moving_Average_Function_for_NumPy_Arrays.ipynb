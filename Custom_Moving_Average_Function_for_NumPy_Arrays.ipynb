{
  "nbformat": 4,
  "nbformat_minor": 0,
  "metadata": {
    "colab": {
      "provenance": []
    },
    "kernelspec": {
      "name": "python3",
      "display_name": "Python 3"
    },
    "language_info": {
      "name": "python"
    }
  },
  "cells": [
    {
      "cell_type": "code",
      "execution_count": 4,
      "metadata": {
        "colab": {
          "base_uri": "https://localhost:8080/"
        },
        "id": "pXziB2Gtwaj2",
        "outputId": "b137df9e-e274-44b6-b603-a614f80f9119"
      },
      "outputs": [
        {
          "output_type": "stream",
          "name": "stdout",
          "text": [
            "[2. 3. 4. 5. 6. 7. 8. 9.]\n"
          ]
        }
      ],
      "source": [
        "import numpy as np\n",
        "\n",
        "def moving_average(arr, window_size):\n",
        "    if window_size > len(arr):\n",
        "        raise ValueError(\"Window size cannot be greater than the array length\")\n",
        "\n",
        "    return np.convolve(arr, np.ones(window_size) / window_size, mode='valid')\n",
        "\n",
        "\n",
        "arr = np.array([1, 2, 3, 4, 5, 6, 7, 8, 9, 10])\n",
        "window_size = 3\n",
        "moving_average_ = moving_average(arr, window_size)\n",
        "print(moving_average_)\n",
        "\n",
        "\n"
      ]
    },
    {
      "cell_type": "code",
      "source": [],
      "metadata": {
        "id": "xLhXactLxKkk"
      },
      "execution_count": null,
      "outputs": []
    }
  ]
}